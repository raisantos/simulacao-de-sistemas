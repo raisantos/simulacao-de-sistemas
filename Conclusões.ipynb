{
 "cells": [
  {
   "cell_type": "code",
   "execution_count": 2,
   "metadata": {},
   "outputs": [
    {
     "name": "stdout",
     "output_type": "stream",
     "text": [
      "Populating the interactive namespace from numpy and matplotlib\n"
     ]
    },
    {
     "name": "stderr",
     "output_type": "stream",
     "text": [
      "C:\\Users\\Inventario-LSE\\Anaconda3\\lib\\site-packages\\IPython\\core\\magics\\pylab.py:161: UserWarning: pylab import has clobbered these variables: ['dist']\n",
      "`%matplotlib` prevents importing * from pylab and numpy\n",
      "  \"\\n`%matplotlib` prevents importing * from pylab and numpy\"\n"
     ]
    }
   ],
   "source": [
    "%pylab inline\n",
    "import numpy as np\n",
    "import pandas as pd\n",
    "import matplotlib.pyplot as plt"
   ]
  },
  {
   "cell_type": "markdown",
   "metadata": {},
   "source": [
    "# Tempo Livre do Operador"
   ]
  },
  {
   "cell_type": "code",
   "execution_count": 10,
   "metadata": {},
   "outputs": [],
   "source": [
    "dist_tec = ['Poisson', 'Poisson', 'Poisson', 'Poisson',\n",
    "        'Triangular', 'Triangular', 'Triangular', 'Triangular',\n",
    "        'Exponencial', 'Exponencial', 'Exponencial', 'Exponencial',\n",
    "        'Normal', 'Normal', 'Normal', 'Normal']\n",
    "\n",
    "dist_ts = ['Poisson', 'Triangular', 'Exponencial', 'Normal',\n",
    "           'Triangular', 'Poisson', 'Exponencial', 'Normal',\n",
    "           'Exponencial', 'Poisson', 'Triangular', 'Normal',\n",
    "           'Normal', 'Poisson', 'Triangular', 'Exponencial']\n",
    "\n",
    "values = [1171, 28.50292066, 1160.574864, 16.2963538,\n",
    "          489.9440637, 6018.601793, 4487.515943, 1097.550407,\n",
    "          5130.10, 6315.702513, 3032.596704, 3184.307446,\n",
    "          57.80542378, 5070.928242, 43.66200771, 3443.306427]\n",
    "\n",
    "data = {\n",
    "    'distribuicao do TEC': dist_tec,\n",
    "    'distribuicao do TS': dist_ts,\n",
    "    'valores': values\n",
    "}\n",
    "tempo_livre_do_operador = pd.DataFrame(data=data)"
   ]
  },
  {
   "cell_type": "code",
   "execution_count": 11,
   "metadata": {},
   "outputs": [
    {
     "data": {
      "text/html": [
       "<div>\n",
       "<style>\n",
       "    .dataframe thead tr:only-child th {\n",
       "        text-align: right;\n",
       "    }\n",
       "\n",
       "    .dataframe thead th {\n",
       "        text-align: left;\n",
       "    }\n",
       "\n",
       "    .dataframe tbody tr th {\n",
       "        vertical-align: top;\n",
       "    }\n",
       "</style>\n",
       "<table border=\"1\" class=\"dataframe\">\n",
       "  <thead>\n",
       "    <tr style=\"text-align: right;\">\n",
       "      <th></th>\n",
       "      <th>distribuicao do TEC</th>\n",
       "      <th>distribuicao do TS</th>\n",
       "      <th>valores</th>\n",
       "    </tr>\n",
       "  </thead>\n",
       "  <tbody>\n",
       "    <tr>\n",
       "      <th>0</th>\n",
       "      <td>Poisson</td>\n",
       "      <td>Poisson</td>\n",
       "      <td>1171.000000</td>\n",
       "    </tr>\n",
       "    <tr>\n",
       "      <th>1</th>\n",
       "      <td>Poisson</td>\n",
       "      <td>Triangular</td>\n",
       "      <td>28.502921</td>\n",
       "    </tr>\n",
       "    <tr>\n",
       "      <th>2</th>\n",
       "      <td>Poisson</td>\n",
       "      <td>Exponencial</td>\n",
       "      <td>1160.574864</td>\n",
       "    </tr>\n",
       "    <tr>\n",
       "      <th>3</th>\n",
       "      <td>Poisson</td>\n",
       "      <td>Normal</td>\n",
       "      <td>16.296354</td>\n",
       "    </tr>\n",
       "    <tr>\n",
       "      <th>4</th>\n",
       "      <td>Triangular</td>\n",
       "      <td>Triangular</td>\n",
       "      <td>489.944064</td>\n",
       "    </tr>\n",
       "  </tbody>\n",
       "</table>\n",
       "</div>"
      ],
      "text/plain": [
       "  distribuicao do TEC distribuicao do TS      valores\n",
       "0             Poisson            Poisson  1171.000000\n",
       "1             Poisson         Triangular    28.502921\n",
       "2             Poisson        Exponencial  1160.574864\n",
       "3             Poisson             Normal    16.296354\n",
       "4          Triangular         Triangular   489.944064"
      ]
     },
     "execution_count": 11,
     "metadata": {},
     "output_type": "execute_result"
    }
   ],
   "source": [
    "tempo_livre_do_operador.head()"
   ]
  },
  {
   "cell_type": "markdown",
   "metadata": {},
   "source": [
    "# Tempo livre mínimo entre as distribuições"
   ]
  },
  {
   "cell_type": "code",
   "execution_count": 12,
   "metadata": {},
   "outputs": [
    {
     "data": {
      "text/html": [
       "<div>\n",
       "<style>\n",
       "    .dataframe thead tr:only-child th {\n",
       "        text-align: right;\n",
       "    }\n",
       "\n",
       "    .dataframe thead th {\n",
       "        text-align: left;\n",
       "    }\n",
       "\n",
       "    .dataframe tbody tr th {\n",
       "        vertical-align: top;\n",
       "    }\n",
       "</style>\n",
       "<table border=\"1\" class=\"dataframe\">\n",
       "  <thead>\n",
       "    <tr style=\"text-align: right;\">\n",
       "      <th></th>\n",
       "      <th>distribuicao do TEC</th>\n",
       "      <th>distribuicao do TS</th>\n",
       "      <th>valores</th>\n",
       "    </tr>\n",
       "  </thead>\n",
       "  <tbody>\n",
       "    <tr>\n",
       "      <th>3</th>\n",
       "      <td>Poisson</td>\n",
       "      <td>Normal</td>\n",
       "      <td>16.296354</td>\n",
       "    </tr>\n",
       "  </tbody>\n",
       "</table>\n",
       "</div>"
      ],
      "text/plain": [
       "  distribuicao do TEC distribuicao do TS    valores\n",
       "3             Poisson             Normal  16.296354"
      ]
     },
     "execution_count": 12,
     "metadata": {},
     "output_type": "execute_result"
    }
   ],
   "source": [
    "tempo_livre_do_operador[tempo_livre_do_operador['valores'] == tempo_livre_do_operador['valores'].min()]"
   ]
  },
  {
   "cell_type": "markdown",
   "metadata": {},
   "source": [
    "# Tempo livre máximo entre as distribuições"
   ]
  },
  {
   "cell_type": "code",
   "execution_count": 13,
   "metadata": {},
   "outputs": [
    {
     "data": {
      "text/html": [
       "<div>\n",
       "<style>\n",
       "    .dataframe thead tr:only-child th {\n",
       "        text-align: right;\n",
       "    }\n",
       "\n",
       "    .dataframe thead th {\n",
       "        text-align: left;\n",
       "    }\n",
       "\n",
       "    .dataframe tbody tr th {\n",
       "        vertical-align: top;\n",
       "    }\n",
       "</style>\n",
       "<table border=\"1\" class=\"dataframe\">\n",
       "  <thead>\n",
       "    <tr style=\"text-align: right;\">\n",
       "      <th></th>\n",
       "      <th>distribuicao do TEC</th>\n",
       "      <th>distribuicao do TS</th>\n",
       "      <th>valores</th>\n",
       "    </tr>\n",
       "  </thead>\n",
       "  <tbody>\n",
       "    <tr>\n",
       "      <th>9</th>\n",
       "      <td>Exponencial</td>\n",
       "      <td>Poisson</td>\n",
       "      <td>6315.702513</td>\n",
       "    </tr>\n",
       "  </tbody>\n",
       "</table>\n",
       "</div>"
      ],
      "text/plain": [
       "  distribuicao do TEC distribuicao do TS      valores\n",
       "9         Exponencial            Poisson  6315.702513"
      ]
     },
     "execution_count": 13,
     "metadata": {},
     "output_type": "execute_result"
    }
   ],
   "source": [
    "tempo_livre_do_operador[tempo_livre_do_operador['valores'] == tempo_livre_do_operador['valores'].max()]"
   ]
  },
  {
   "cell_type": "markdown",
   "metadata": {},
   "source": [
    "# Tempos em que a distribuição usada para Tempo de Serviço era a Triangular"
   ]
  },
  {
   "cell_type": "code",
   "execution_count": 15,
   "metadata": {},
   "outputs": [
    {
     "data": {
      "text/html": [
       "<div>\n",
       "<style>\n",
       "    .dataframe thead tr:only-child th {\n",
       "        text-align: right;\n",
       "    }\n",
       "\n",
       "    .dataframe thead th {\n",
       "        text-align: left;\n",
       "    }\n",
       "\n",
       "    .dataframe tbody tr th {\n",
       "        vertical-align: top;\n",
       "    }\n",
       "</style>\n",
       "<table border=\"1\" class=\"dataframe\">\n",
       "  <thead>\n",
       "    <tr style=\"text-align: right;\">\n",
       "      <th></th>\n",
       "      <th>distribuicao do TEC</th>\n",
       "      <th>distribuicao do TS</th>\n",
       "      <th>valores</th>\n",
       "    </tr>\n",
       "  </thead>\n",
       "  <tbody>\n",
       "    <tr>\n",
       "      <th>1</th>\n",
       "      <td>Poisson</td>\n",
       "      <td>Triangular</td>\n",
       "      <td>28.502921</td>\n",
       "    </tr>\n",
       "    <tr>\n",
       "      <th>4</th>\n",
       "      <td>Triangular</td>\n",
       "      <td>Triangular</td>\n",
       "      <td>489.944064</td>\n",
       "    </tr>\n",
       "    <tr>\n",
       "      <th>10</th>\n",
       "      <td>Exponencial</td>\n",
       "      <td>Triangular</td>\n",
       "      <td>3032.596704</td>\n",
       "    </tr>\n",
       "    <tr>\n",
       "      <th>14</th>\n",
       "      <td>Normal</td>\n",
       "      <td>Triangular</td>\n",
       "      <td>43.662008</td>\n",
       "    </tr>\n",
       "  </tbody>\n",
       "</table>\n",
       "</div>"
      ],
      "text/plain": [
       "   distribuicao do TEC distribuicao do TS      valores\n",
       "1              Poisson         Triangular    28.502921\n",
       "4           Triangular         Triangular   489.944064\n",
       "10         Exponencial         Triangular  3032.596704\n",
       "14              Normal         Triangular    43.662008"
      ]
     },
     "execution_count": 15,
     "metadata": {},
     "output_type": "execute_result"
    }
   ],
   "source": [
    "tempo_livre_do_operador[tempo_livre_do_operador['distribuicao do TS'] == 'Triangular']"
   ]
  },
  {
   "cell_type": "markdown",
   "metadata": {},
   "source": [
    "# Tempo de Atraso da distribuição Poisson-Poisson"
   ]
  },
  {
   "cell_type": "code",
   "execution_count": 19,
   "metadata": {},
   "outputs": [],
   "source": [
    "pp = pd.read_excel('xlsm/poisson_to_poisson.xlsm')"
   ]
  },
  {
   "cell_type": "code",
   "execution_count": 22,
   "metadata": {},
   "outputs": [
    {
     "data": {
      "text/plain": [
       "[<matplotlib.lines.Line2D at 0x23c84a42a90>]"
      ]
     },
     "execution_count": 22,
     "metadata": {},
     "output_type": "execute_result"
    },
    {
     "data": {
      "image/png": "[encoded data removed]",
      "text/plain": [
       "<matplotlib.figure.Figure at 0x23c84554390>"
      ]
     },
     "metadata": {},
     "output_type": "display_data"
    }
   ],
   "source": [
    "plt.plot(pp['Cliente'], pp['Tempo do cliente no sistema(minutos)'])"
   ]
  },
  {
   "cell_type": "code",
   "execution_count": 23,
   "metadata": {},
   "outputs": [
    {
     "data": {
      "text/plain": [
       "[<matplotlib.lines.Line2D at 0x23c84ae5c88>]"
      ]
     },
     "execution_count": 23,
     "metadata": {},
     "output_type": "execute_result"
    },
    {
     "data": {
      "image/png": "[encoded data removed]",
      "text/plain": [
       "<matplotlib.figure.Figure at 0x23c84746fd0>"
      ]
     },
     "metadata": {},
     "output_type": "display_data"
    }
   ],
   "source": [
    "plt.plot(pp['Cliente'], pp['Tempo do Cliente na fila(minutos)'])"
   ]
  },
  {
   "cell_type": "code",
   "execution_count": 31,
   "metadata": {},
   "outputs": [],
   "source": [
    "df = pd.read_excel('xlsm/poisson_to_exponencial.xlsm')\n",
    "ts = [float(i.replace(',', '.')) for i in df['Tempo de Serviço (minutos)']]\n",
    "df['Tempo de Serviço (minutos)']=ts\n",
    "df.to_excel('teste.xlsm')"
   ]
  }
 ],
 "metadata": {
  "kernelspec": {
   "display_name": "Python 3",
   "language": "python",
   "name": "python3"
  },
  "language_info": {
   "codemirror_mode": {
    "name": "ipython",
    "version": 3
   },
   "file_extension": ".py",
   "mimetype": "text/x-python",
   "name": "python",
   "nbconvert_exporter": "python",
   "pygments_lexer": "ipython3",
   "version": "3.6.1"
  }
 },
 "nbformat": 4,
 "nbformat_minor": 2
}
