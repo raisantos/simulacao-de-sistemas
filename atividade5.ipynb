{
 "cells": [
  {
   "cell_type": "code",
   "execution_count": 1,
   "metadata": {
    "collapsed": true
   },
   "outputs": [],
   "source": [
    "import numpy as np\n",
    "import pandas as pd\n",
    "import matplotlib.pyplot as plt"
   ]
  },
  {
   "cell_type": "markdown",
   "metadata": {},
   "source": [
    "## POISSON & POISSON"
   ]
  },
  {
   "cell_type": "code",
   "execution_count": 2,
   "metadata": {
    "collapsed": true
   },
   "outputs": [],
   "source": [
    "tec = np.random.poisson(5, 1000)\n",
    "ts = np.random.poisson(5, 1000)"
   ]
  },
  {
   "cell_type": "code",
   "execution_count": 3,
   "metadata": {
    "collapsed": true
   },
   "outputs": [],
   "source": [
    "data = {'tec': tec, 'ts' : ts}\n",
    "df1 = pd.DataFrame(data=data)\n",
    "df1.head()\n",
    "df1.to_csv('poisson_to_poisson.csv')"
   ]
  },
  {
   "cell_type": "markdown",
   "metadata": {},
   "source": [
    "## POISSON & TRIANGULAR"
   ]
  },
  {
   "cell_type": "code",
   "execution_count": 4,
   "metadata": {
    "collapsed": true
   },
   "outputs": [],
   "source": [
    "tec = np.random.poisson(5, 1000)\n",
    "ts = np.random.triangular(9, 11, 13, 1000)"
   ]
  },
  {
   "cell_type": "code",
   "execution_count": 5,
   "metadata": {
    "collapsed": true
   },
   "outputs": [],
   "source": [
    "data = {'tec': tec, 'ts' : ts}\n",
    "df2 = pd.DataFrame(data=data)\n",
    "df2.head()\n",
    "df2.to_csv('poisson_to_triangular.csv')"
   ]
  },
  {
   "cell_type": "markdown",
   "metadata": {},
   "source": [
    "## POISSON & NORMAL"
   ]
  },
  {
   "cell_type": "code",
   "execution_count": 6,
   "metadata": {
    "collapsed": true
   },
   "outputs": [],
   "source": [
    "mu, sigma = 10, 0.1\n",
    "tec = np.random.poisson(5, 1000)\n",
    "ts = np.random.normal(mu, sigma, 1000)"
   ]
  },
  {
   "cell_type": "code",
   "execution_count": 7,
   "metadata": {
    "collapsed": true
   },
   "outputs": [],
   "source": [
    "data = {'tec': tec, 'ts' : ts}\n",
    "df3 = pd.DataFrame(data=data)\n",
    "df3.head()\n",
    "df3.to_csv('poisson_to_normal.csv')"
   ]
  },
  {
   "cell_type": "markdown",
   "metadata": {},
   "source": [
    "## POISSON & EXPONENCIAL"
   ]
  },
  {
   "cell_type": "code",
   "execution_count": 8,
   "metadata": {
    "collapsed": true
   },
   "outputs": [],
   "source": [
    "tec = np.random.poisson(5, 1000)\n",
    "ts = np.random.exponential(10, 1000)"
   ]
  },
  {
   "cell_type": "code",
   "execution_count": 9,
   "metadata": {
    "collapsed": true
   },
   "outputs": [],
   "source": [
    "data = {'tec': tec, 'ts' : ts}\n",
    "df4 = pd.DataFrame(data=data)\n",
    "df4.head()\n",
    "df4.to_csv('poisson_to_exponencial.csv')"
   ]
  },
  {
   "cell_type": "markdown",
   "metadata": {},
   "source": [
    "## TRIANGULAR & TRIANGULAR"
   ]
  },
  {
   "cell_type": "code",
   "execution_count": 10,
   "metadata": {
    "collapsed": true
   },
   "outputs": [],
   "source": [
    "tec = np.random.triangular(9, 11, 13, 1000)\n",
    "ts = np.random.triangular(9, 11, 13, 1000)"
   ]
  },
  {
   "cell_type": "code",
   "execution_count": 11,
   "metadata": {
    "collapsed": true
   },
   "outputs": [],
   "source": [
    "data = {'tec': tec, 'ts' : ts}\n",
    "df5 = pd.DataFrame(data=data)\n",
    "df5.head()\n",
    "df5.to_csv('triangular_to_triangular.csv')"
   ]
  },
  {
   "cell_type": "markdown",
   "metadata": {},
   "source": [
    "## TRIANGULAR & NORMAL"
   ]
  },
  {
   "cell_type": "code",
   "execution_count": 12,
   "metadata": {
    "collapsed": true
   },
   "outputs": [],
   "source": [
    "tec = np.random.triangular(9, 11, 13, 1000)\n",
    "ts = np.random.normal(mu, sigma, 1000)"
   ]
  },
  {
   "cell_type": "code",
   "execution_count": 13,
   "metadata": {
    "collapsed": true
   },
   "outputs": [],
   "source": [
    "data = {'tec': tec, 'ts' : ts}\n",
    "df6 = pd.DataFrame(data=data)\n",
    "df6.head()\n",
    "df6.to_csv('triangular_to_normal.csv')"
   ]
  },
  {
   "cell_type": "markdown",
   "metadata": {},
   "source": [
    "# TRIANGULAR & EXPONENCIAL"
   ]
  },
  {
   "cell_type": "code",
   "execution_count": 14,
   "metadata": {
    "collapsed": true
   },
   "outputs": [],
   "source": [
    "tec = np.random.triangular(9, 11, 13, 1000)\n",
    "ts = np.random.exponential(10, 1000)\n",
    "data = {'tec': tec, 'ts' : ts}\n",
    "df6 = pd.DataFrame(data=data)\n",
    "df6.head()\n",
    "df6.to_csv('triangular_to_exponencial.csv')"
   ]
  },
  {
   "cell_type": "markdown",
   "metadata": {},
   "source": [
    "# TRIANGULAR & POISSON"
   ]
  },
  {
   "cell_type": "code",
   "execution_count": 15,
   "metadata": {
    "collapsed": true
   },
   "outputs": [],
   "source": [
    "tec = np.random.triangular(9, 11, 13, 1000)\n",
    "ts = np.random.poisson(5, 1000)\n",
    "data = {'tec': tec, 'ts' : ts}\n",
    "df6 = pd.DataFrame(data=data)\n",
    "df6.head()\n",
    "df6.to_csv('triangular_to_poisson.csv')"
   ]
  },
  {
   "cell_type": "markdown",
   "metadata": {},
   "source": [
    "## EXPONENCIAL & EXPONENCIAL"
   ]
  },
  {
   "cell_type": "code",
   "execution_count": 16,
   "metadata": {
    "collapsed": true
   },
   "outputs": [],
   "source": [
    "tec = np.random.exponential(10, 1000)\n",
    "ts = np.random.exponential(10, 1000)"
   ]
  },
  {
   "cell_type": "code",
   "execution_count": 17,
   "metadata": {
    "collapsed": true
   },
   "outputs": [],
   "source": [
    "data = {'tec': tec, 'ts' : ts}\n",
    "df7 = pd.DataFrame(data=data)\n",
    "df7.head()\n",
    "df7.to_csv('exponencial_to_exponencial.csv')"
   ]
  },
  {
   "cell_type": "markdown",
   "metadata": {},
   "source": [
    "# EXPONENCIAL & TRIANGULAR "
   ]
  },
  {
   "cell_type": "code",
   "execution_count": 18,
   "metadata": {
    "collapsed": true
   },
   "outputs": [],
   "source": [
    "tec = np.random.exponential(10, 1000)\n",
    "ts = np.random.triangular(9, 11, 13, 1000)\n",
    "data = {'tec': tec, 'ts' : ts}\n",
    "df7 = pd.DataFrame(data=data)\n",
    "df7.head()\n",
    "df7.to_csv('exponencial_to_triangular.csv')"
   ]
  },
  {
   "cell_type": "markdown",
   "metadata": {},
   "source": [
    "# EXPONENCIAL & NORMAL"
   ]
  },
  {
   "cell_type": "code",
   "execution_count": 19,
   "metadata": {
    "collapsed": true
   },
   "outputs": [],
   "source": [
    "mu, sigma = 10, 0.1\n",
    "tec = np.random.exponential(10, 1000)\n",
    "ts = np.random.normal(mu, sigma, 1000)\n",
    "data = {'tec': tec, 'ts' : ts}\n",
    "df7 = pd.DataFrame(data=data)\n",
    "df7.head()\n",
    "df7.to_csv('exponencial_to_normal.csv')"
   ]
  },
  {
   "cell_type": "markdown",
   "metadata": {},
   "source": [
    "# EXPONENCIAL & POISSON"
   ]
  },
  {
   "cell_type": "code",
   "execution_count": 20,
   "metadata": {
    "collapsed": true
   },
   "outputs": [],
   "source": [
    "tec = np.random.exponential(10, 1000)\n",
    "ts = np.random.poisson(5, 1000)\n",
    "data = {'tec': tec, 'ts' : ts}\n",
    "df7 = pd.DataFrame(data=data)\n",
    "df7.head()\n",
    "df7.to_csv('exponencial_to_poisson.csv')"
   ]
  },
  {
   "cell_type": "markdown",
   "metadata": {},
   "source": [
    "# NORMAL & NORMAL"
   ]
  },
  {
   "cell_type": "code",
   "execution_count": 21,
   "metadata": {
    "collapsed": true
   },
   "outputs": [],
   "source": [
    "mu, sigma = 10, 0.1\n",
    "tec = np.random.normal(mu, sigma, 1000)\n",
    "ts = np.random.normal(mu, sigma, 1000)"
   ]
  },
  {
   "cell_type": "code",
   "execution_count": 22,
   "metadata": {
    "collapsed": true
   },
   "outputs": [],
   "source": [
    "data = {'tec': tec, 'ts' : ts}\n",
    "df8 = pd.DataFrame(data=data)\n",
    "df8.head()\n",
    "df8.to_csv('normal_to_normal.csv')"
   ]
  },
  {
   "cell_type": "markdown",
   "metadata": {},
   "source": [
    "# NORMAL & POISSON"
   ]
  },
  {
   "cell_type": "code",
   "execution_count": 23,
   "metadata": {
    "collapsed": true
   },
   "outputs": [],
   "source": [
    "mu, sigma = 10, 0.1\n",
    "tec = np.random.normal(mu, sigma, 1000)\n",
    "ts = np.random.poisson(5, 1000)\n",
    "data = {'tec': tec, 'ts' : ts}\n",
    "df8 = pd.DataFrame(data=data)\n",
    "df8.head()\n",
    "df8.to_csv('normal_to_poisson.csv')"
   ]
  },
  {
   "cell_type": "markdown",
   "metadata": {},
   "source": [
    "# NORMAL & EXPONENCIAL"
   ]
  },
  {
   "cell_type": "code",
   "execution_count": 24,
   "metadata": {
    "collapsed": true
   },
   "outputs": [],
   "source": [
    "mu, sigma = 10, 0.1\n",
    "tec = np.random.normal(mu, sigma, 1000)\n",
    "ts = np.random.exponential(10, 1000)\n",
    "data = {'tec': tec, 'ts' : ts}\n",
    "df8 = pd.DataFrame(data=data)\n",
    "df8.head()\n",
    "df8.to_csv('normal_to_exponencial.csv')"
   ]
  },
  {
   "cell_type": "markdown",
   "metadata": {},
   "source": [
    "# NORMAL & TRIANGULAR"
   ]
  },
  {
   "cell_type": "code",
   "execution_count": 25,
   "metadata": {
    "collapsed": true
   },
   "outputs": [],
   "source": [
    "mu, sigma = 10, 0.1\n",
    "tec = np.random.normal(mu, sigma, 1000)\n",
    "ts = np.random.triangular(9, 11, 13, 1000)\n",
    "data = {'tec': tec, 'ts' : ts}\n",
    "df8 = pd.DataFrame(data=data)\n",
    "df8.head()\n",
    "df8.to_csv('normal_to_triangular.csv')"
   ]
  },
  {
   "cell_type": "code",
   "execution_count": null,
   "metadata": {
    "collapsed": true
   },
   "outputs": [],
   "source": []
  }
 ],
 "metadata": {
  "kernelspec": {
   "display_name": "Python 3",
   "language": "python",
   "name": "python3"
  },
  "language_info": {
   "codemirror_mode": {
    "name": "ipython",
    "version": 3
   },
   "file_extension": ".py",
   "mimetype": "text/x-python",
   "name": "python",
   "nbconvert_exporter": "python",
   "pygments_lexer": "ipython3",
   "version": "3.6.1"
  }
 },
 "nbformat": 4,
 "nbformat_minor": 2
}
